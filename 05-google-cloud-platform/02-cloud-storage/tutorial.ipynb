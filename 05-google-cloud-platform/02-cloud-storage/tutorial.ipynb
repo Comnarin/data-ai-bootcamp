{
 "cells": [
  {
   "cell_type": "code",
   "execution_count": 1,
   "metadata": {},
   "outputs": [],
   "source": [
    "import os\n",
    "from dotenv import load_dotenv\n",
    "\n",
    "_ = load_dotenv(override=True)"
   ]
  },
  {
   "cell_type": "code",
   "execution_count": 3,
   "metadata": {},
   "outputs": [],
   "source": [
    "import os\n",
    "from google.cloud import storage\n",
    "\n",
    "# กำหนดค่าตัวแปร\n",
    "PROJECT_ID = \"dataaibootcamp\"\n",
    "BUCKET_NAME = \"dataai-com-2024\"\n",
    "\n",
    "# สร้าง client object สำหรับเชื่อมต่อกับ Cloud Storage\n",
    "storage_client = storage.Client(project=PROJECT_ID)"
   ]
  },
  {
   "cell_type": "code",
   "execution_count": 4,
   "metadata": {},
   "outputs": [],
   "source": [
    "# สร้าง bucket ใหม่\n",
    "bucket = storage_client.bucket(BUCKET_NAME)\n",
    "bucket.create()"
   ]
  },
  {
   "cell_type": "code",
   "execution_count": 5,
   "metadata": {},
   "outputs": [
    {
     "name": "stdout",
     "output_type": "stream",
     "text": [
      "อัพโหลดไฟล์ ./data/mock.txt ไปยัง folder/file.txt สำเร็จ\n"
     ]
    }
   ],
   "source": [
    "# อัพโหลดไฟล์ไปยัง Cloud Storage\n",
    "source_file = \"./data/mock.txt\"\n",
    "destination_blob = \"folder/file.txt\"\n",
    "\n",
    "blob = bucket.blob(destination_blob)\n",
    "blob.upload_from_filename(source_file)\n",
    "\n",
    "print(f\"อัพโหลดไฟล์ {source_file} ไปยัง {destination_blob} สำเร็จ\")"
   ]
  },
  {
   "cell_type": "code",
   "execution_count": 6,
   "metadata": {},
   "outputs": [
    {
     "name": "stdout",
     "output_type": "stream",
     "text": [
      "ดาวน์โหลดไฟล์จาก folder/file.txt ไปยัง ./data/downloaded_file.txt สำเร็จ\n"
     ]
    }
   ],
   "source": [
    "# ดาวน์โหลดไฟล์จาก Cloud Storage\n",
    "download_file = \"./data/downloaded_file.txt\"\n",
    "blob.download_to_filename(download_file)\n",
    "\n",
    "print(f\"ดาวน์โหลดไฟล์จาก {destination_blob} ไปยัง {download_file} สำเร็จ\")"
   ]
  },
  {
   "cell_type": "code",
   "execution_count": 7,
   "metadata": {},
   "outputs": [
    {
     "name": "stdout",
     "output_type": "stream",
     "text": [
      "ลบไฟล์ folder/file.txt สำเร็จ\n"
     ]
    }
   ],
   "source": [
    "# ลบไฟล์ใน Cloud Storage\n",
    "blob.delete()\n",
    "print(f\"ลบไฟล์ {destination_blob} สำเร็จ\")"
   ]
  },
  {
   "cell_type": "code",
   "execution_count": 8,
   "metadata": {},
   "outputs": [
    {
     "name": "stdout",
     "output_type": "stream",
     "text": [
      "ลบ bucket dataai-com-2024 สำเร็จ\n"
     ]
    }
   ],
   "source": [
    "# ลบ bucket\n",
    "bucket.delete()\n",
    "print(f\"ลบ bucket {BUCKET_NAME} สำเร็จ\")"
   ]
  },
  {
   "cell_type": "code",
   "execution_count": null,
   "metadata": {},
   "outputs": [],
   "source": []
  }
 ],
 "metadata": {
  "kernelspec": {
   "display_name": "Python 3",
   "language": "python",
   "name": "python3"
  },
  "language_info": {
   "codemirror_mode": {
    "name": "ipython",
    "version": 3
   },
   "file_extension": ".py",
   "mimetype": "text/x-python",
   "name": "python",
   "nbconvert_exporter": "python",
   "pygments_lexer": "ipython3",
   "version": "3.12.1"
  }
 },
 "nbformat": 4,
 "nbformat_minor": 2
}
